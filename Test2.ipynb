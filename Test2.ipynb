{
 "cells": [
  {
   "cell_type": "code",
   "id": "initial_id",
   "metadata": {
    "collapsed": true,
    "ExecuteTime": {
     "end_time": "2025-04-28T19:35:30.772559Z",
     "start_time": "2025-04-28T19:35:27.026542Z"
    }
   },
   "source": [
    "import tensorflow as tf\n",
    "import numpy as np\n",
    "from tensorflow.keras.applications import EfficientNetB3\n",
    "from tensorflow.keras.applications.efficientnet import preprocess_input, decode_predictions\n",
    "from tensorflow.keras.preprocessing import image"
   ],
   "outputs": [],
   "execution_count": 2
  },
  {
   "metadata": {
    "ExecuteTime": {
     "end_time": "2025-04-28T19:46:36.334990Z",
     "start_time": "2025-04-28T19:46:31.479276Z"
    }
   },
   "cell_type": "code",
   "source": [
    "# Загружаем модель EfficientNetB3, предобученную на ImageNet\n",
    "model = EfficientNetB3(weights='imagenet')"
   ],
   "id": "f7ab096f1881d957",
   "outputs": [
    {
     "name": "stdout",
     "output_type": "stream",
     "text": [
      "Downloading data from https://storage.googleapis.com/keras-applications/efficientnetb3.h5\n",
      "\u001B[1m50095040/50095040\u001B[0m \u001B[32m━━━━━━━━━━━━━━━━━━━━\u001B[0m\u001B[37m\u001B[0m \u001B[1m3s\u001B[0m 0us/step\n"
     ]
    }
   ],
   "execution_count": 16
  },
  {
   "metadata": {
    "ExecuteTime": {
     "end_time": "2025-04-28T19:46:39.784850Z",
     "start_time": "2025-04-28T19:46:39.779404Z"
    }
   },
   "cell_type": "code",
   "source": [
    "# Функция для проверки \"человек или нет\"\n",
    "def is_person(img_path):\n",
    "    # Загружаем и подготавливаем изображение\n",
    "    img = image.load_img(img_path, target_size=(300, 300))  # для EfficientNetB3 нужно 300x300\n",
    "    x = image.img_to_array(img)\n",
    "    x = np.expand_dims(x, axis=0)\n",
    "    x = preprocess_input(x)\n",
    "\n",
    "    # Предсказание\n",
    "    preds = model.predict(x)\n",
    "    decoded_preds = decode_predictions(preds, top=5)[0]\n",
    "\n",
    "    # Проверка: есть ли человек в топ-5 предсказаний\n",
    "    for (_, label, prob) in decoded_preds:\n",
    "        if label in ['person', 'man', 'woman']:\n",
    "            print(f\"На изображении человек с вероятностью {prob:.2f}\")\n",
    "            return True\n",
    "    print(\"Человек не найден.\")\n",
    "    return False"
   ],
   "id": "4ec2bfcc3b475209",
   "outputs": [],
   "execution_count": 17
  },
  {
   "metadata": {
    "ExecuteTime": {
     "end_time": "2025-04-28T19:46:45.518032Z",
     "start_time": "2025-04-28T19:46:43.611565Z"
    }
   },
   "cell_type": "code",
   "source": [
    "# Пример использования\n",
    "img_path = 'test/8cf3b758d6af4abbaebc1b7bef7f4855.max-2500x1500.jpg'\n",
    "is_person(img_path)"
   ],
   "id": "4d2ef42d5e7e36a8",
   "outputs": [
    {
     "name": "stdout",
     "output_type": "stream",
     "text": [
      "\u001B[1m1/1\u001B[0m \u001B[32m━━━━━━━━━━━━━━━━━━━━\u001B[0m\u001B[37m\u001B[0m \u001B[1m2s\u001B[0m 2s/step\n",
      "Человек не найден.\n"
     ]
    },
    {
     "data": {
      "text/plain": [
       "False"
      ]
     },
     "execution_count": 18,
     "metadata": {},
     "output_type": "execute_result"
    }
   ],
   "execution_count": 18
  },
  {
   "metadata": {
    "ExecuteTime": {
     "end_time": "2025-04-28T19:46:47.836325Z",
     "start_time": "2025-04-28T19:46:47.684098Z"
    }
   },
   "cell_type": "code",
   "source": [
    "# Пример использования\n",
    "img_path = 'test/IMG_8288.jpg'\n",
    "is_person(img_path)"
   ],
   "id": "70cd323a95f6ac67",
   "outputs": [
    {
     "name": "stdout",
     "output_type": "stream",
     "text": [
      "\u001B[1m1/1\u001B[0m \u001B[32m━━━━━━━━━━━━━━━━━━━━\u001B[0m\u001B[37m\u001B[0m \u001B[1m0s\u001B[0m 114ms/step\n",
      "Человек не найден.\n"
     ]
    },
    {
     "data": {
      "text/plain": [
       "False"
      ]
     },
     "execution_count": 19,
     "metadata": {},
     "output_type": "execute_result"
    }
   ],
   "execution_count": 19
  },
  {
   "metadata": {
    "ExecuteTime": {
     "end_time": "2025-04-28T19:46:49.592875Z",
     "start_time": "2025-04-28T19:46:49.410771Z"
    }
   },
   "cell_type": "code",
   "source": [
    "# Пример использования\n",
    "img_path = 'test/IMG_8290.jpg'\n",
    "is_person(img_path)"
   ],
   "id": "bcaf142c41a3568",
   "outputs": [
    {
     "name": "stdout",
     "output_type": "stream",
     "text": [
      "\u001B[1m1/1\u001B[0m \u001B[32m━━━━━━━━━━━━━━━━━━━━\u001B[0m\u001B[37m\u001B[0m \u001B[1m0s\u001B[0m 139ms/step\n",
      "Человек не найден.\n"
     ]
    },
    {
     "data": {
      "text/plain": [
       "False"
      ]
     },
     "execution_count": 20,
     "metadata": {},
     "output_type": "execute_result"
    }
   ],
   "execution_count": 20
  },
  {
   "metadata": {
    "ExecuteTime": {
     "end_time": "2025-04-28T19:46:51.365753Z",
     "start_time": "2025-04-28T19:46:51.198903Z"
    }
   },
   "cell_type": "code",
   "source": [
    "# Пример использования\n",
    "img_path_1 = 'all_images/6_0.jpg'\n",
    "is_person(img_path)"
   ],
   "id": "f439aaa018fbebfd",
   "outputs": [
    {
     "name": "stdout",
     "output_type": "stream",
     "text": [
      "\u001B[1m1/1\u001B[0m \u001B[32m━━━━━━━━━━━━━━━━━━━━\u001B[0m\u001B[37m\u001B[0m \u001B[1m0s\u001B[0m 125ms/step\n",
      "Человек не найден.\n"
     ]
    },
    {
     "data": {
      "text/plain": [
       "False"
      ]
     },
     "execution_count": 21,
     "metadata": {},
     "output_type": "execute_result"
    }
   ],
   "execution_count": 21
  },
  {
   "metadata": {},
   "cell_type": "code",
   "outputs": [],
   "execution_count": null,
   "source": "",
   "id": "f98eec0ee61fa6b3"
  }
 ],
 "metadata": {
  "kernelspec": {
   "display_name": "Python 3",
   "language": "python",
   "name": "python3"
  },
  "language_info": {
   "codemirror_mode": {
    "name": "ipython",
    "version": 2
   },
   "file_extension": ".py",
   "mimetype": "text/x-python",
   "name": "python",
   "nbconvert_exporter": "python",
   "pygments_lexer": "ipython2",
   "version": "2.7.6"
  }
 },
 "nbformat": 4,
 "nbformat_minor": 5
}
